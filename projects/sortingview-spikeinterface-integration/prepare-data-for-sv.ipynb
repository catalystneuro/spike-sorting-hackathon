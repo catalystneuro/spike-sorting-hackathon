{
 "cells": [
  {
   "cell_type": "code",
   "execution_count": null,
   "id": "8b3c422f",
   "metadata": {},
   "outputs": [],
   "source": [
    "%load_ext autoreload\n",
    "%autoreload 2"
   ]
  },
  {
   "cell_type": "code",
   "execution_count": null,
   "id": "97a1496c",
   "metadata": {},
   "outputs": [],
   "source": [
    "import spikeinterface.full as si\n",
    "import numpy as np\n",
    "from pathlib import Path\n",
    "import time\n",
    "import matplotlib.pyplot as plt\n",
    "import seaborn as sns\n",
    "import pandas as pd\n",
    "import kachery_cloud as kcl\n",
    "import figurl\n",
    "\n",
    "import sortingview.views as vv\n",
    "\n",
    "\n",
    "%matplotlib widget"
   ]
  },
  {
   "cell_type": "code",
   "execution_count": null,
   "id": "18a8bf0d",
   "metadata": {},
   "outputs": [],
   "source": [
    "n_jobs = 10\n",
    "job_kwargs = dict(n_jobs=n_jobs, chunk_duration=\"1s\", progress_bar=True)"
   ]
  },
  {
   "cell_type": "code",
   "execution_count": null,
   "id": "312eb2d5",
   "metadata": {
    "scrolled": true
   },
   "outputs": [],
   "source": [
    "# load recording and sorting\n",
    "if Path(\"rec_bin\").is_dir():\n",
    "    rec = si.load_extractor(\"rec_bin\")\n",
    "    sort = si.load_extractor(\"sort_bin\")\n",
    "else:\n",
    "    rec, sort = si.toy_example(num_channels=32, num_units=20, num_segments=1, duration=120)\n",
    "    rec = rec.save(folder=\"rec_bin\")\n",
    "    sort = sort.save(folder=\"sort_bin\")"
   ]
  },
  {
   "cell_type": "code",
   "execution_count": null,
   "id": "45bc6433",
   "metadata": {},
   "outputs": [],
   "source": [
    "rec = rec.channel_slice(rec.channel_ids, renamed_channel_ids=rec.channel_ids.astype(\"str\"))\n",
    "sort = sort.select_units(sort.unit_ids, renamed_unit_ids=sort.unit_ids.astype(\"str\"))\n",
    "\n",
    "channel_ids = rec.channel_ids\n",
    "unit_ids = sort.unit_ids"
   ]
  },
  {
   "cell_type": "code",
   "execution_count": null,
   "id": "8529ef0b",
   "metadata": {
    "scrolled": true
   },
   "outputs": [],
   "source": [
    "we = si.extract_waveforms(rec, sort, folder=\"wf_folder\", load_if_exists=True, **job_kwargs)"
   ]
  },
  {
   "cell_type": "code",
   "execution_count": null,
   "id": "2ac59006",
   "metadata": {},
   "outputs": [],
   "source": [
    "sparsity = si.get_template_channel_sparsity(we, method=\"radius\", radius_um=50)"
   ]
  },
  {
   "cell_type": "code",
   "execution_count": null,
   "id": "d6f7d695",
   "metadata": {},
   "outputs": [],
   "source": [
    "# templates\n",
    "templates = {}\n",
    "for unit in sort.unit_ids:\n",
    "    template_mean = we.get_template(unit, mode=\"average\", sparsity=sparsity)\n",
    "    template_std = we.get_template(unit, mode=\"std\", sparsity=sparsity)\n",
    "    \n",
    "    templates[unit] = {}\n",
    "    templates[unit][\"mean\"] = template_mean.T\n",
    "    templates[unit][\"std\"] = template_std.T"
   ]
  },
  {
   "cell_type": "code",
   "execution_count": null,
   "id": "692dfb3f",
   "metadata": {},
   "outputs": [],
   "source": [
    "# NOTE: the version on pypi has different parameter name: sorting\n",
    "\n",
    "# ccgs\n",
    "ccgs, bins = si.compute_correlograms(waveform_or_sorting_extractor=sort, symmetrize=True,\n",
    "                                     bin_ms=0.5)"
   ]
  },
  {
   "cell_type": "code",
   "execution_count": null,
   "id": "ffff797e",
   "metadata": {},
   "outputs": [],
   "source": [
    "# NOTE: requires latest install from main branch\n",
    "\n",
    "# spike localization\n",
    "locs = si.compute_spike_locations(we, method=\"monopolar_triangulation\", method_kwargs={\"raidus\": 100},\n",
    "                                  outputs=\"by_unit\", load_if_exists=True, **job_kwargs)"
   ]
  },
  {
   "cell_type": "code",
   "execution_count": null,
   "id": "df86a300",
   "metadata": {},
   "outputs": [],
   "source": [
    "# spike amplitudes\n",
    "amplitudes = si.compute_spike_amplitudes(we, outputs=\"by_unit\", load_if_exists=True, **job_kwargs)"
   ]
  },
  {
   "cell_type": "code",
   "execution_count": null,
   "id": "f56034b2",
   "metadata": {},
   "outputs": [],
   "source": [
    "# similarity\n",
    "similarity = si.compute_template_similarity(we)"
   ]
  },
  {
   "cell_type": "code",
   "execution_count": null,
   "id": "b74924ba",
   "metadata": {},
   "outputs": [],
   "source": [
    "# template metrics\n",
    "tm = si.calculate_template_metrics(we, upsampling_factor=10)"
   ]
  },
  {
   "cell_type": "code",
   "execution_count": null,
   "id": "da8b5df8",
   "metadata": {},
   "outputs": [],
   "source": [
    "# quality metrics\n",
    "metric_names = si.get_quality_metric_list()\n",
    "# metric_names += si.get_quality_pca_metric_list()\n",
    "metric_names += [\"nearest_neighbor\"]\n",
    "\n",
    "# compute PC\n",
    "pc = si.compute_principal_components(we, n_jobs=n_jobs, mode=\"by_channel_local\", progress_bar=True,\n",
    "                                     load_if_exists=True)"
   ]
  },
  {
   "cell_type": "code",
   "execution_count": null,
   "id": "12c3b216",
   "metadata": {},
   "outputs": [],
   "source": [
    "qm = si.compute_quality_metrics(we, sparsity=sparsity, verbose=True, progress_bar=True, \n",
    "                                metric_names=metric_names, n_jobs=n_jobs, load_if_exists=False)"
   ]
  },
  {
   "cell_type": "code",
   "execution_count": null,
   "id": "3ca607f7",
   "metadata": {},
   "outputs": [],
   "source": [
    "# merge metrics\n",
    "metrics = qm.merge(tm, left_index=True, right_index=True)\n",
    "metrics"
   ]
  },
  {
   "cell_type": "code",
   "execution_count": null,
   "id": "d10c3ee6",
   "metadata": {},
   "outputs": [],
   "source": [
    "# NOTE: output='dict' not supported parameter in latest on main branch (using outputs='dict' gives an output of None)\n",
    "\n",
    "# unit locations\n",
    "unit_locations = si.localize_units(we, method=\"monopolar_triangulation\", outputs='by_unit')"
   ]
  },
  {
   "cell_type": "code",
   "execution_count": null,
   "id": "270f190f-c985-4b3e-9ac1-5e6f6998d96c",
   "metadata": {},
   "outputs": [],
   "source": [
    "# Units table\n",
    "\n",
    "ut_rows = [\n",
    "    vv.UnitsTableRow(unit_id=u, values={})\n",
    "    for u in unit_ids\n",
    "]\n",
    "ut_columns = []\n",
    "\n",
    "v_units_table = vv.UnitsTable(rows=ut_rows, columns=ut_columns)\n",
    "url = v_units_table.url(label='Example units table')\n",
    "print(url)"
   ]
  },
  {
   "cell_type": "code",
   "execution_count": null,
   "id": "af5fdc26",
   "metadata": {},
   "outputs": [],
   "source": [
    "# Average waveforms\n",
    "\n",
    "aw_items = [\n",
    "    vv.AverageWaveformItem(\n",
    "        unit_id=u,\n",
    "        channel_ids=list(sparsity[u]),\n",
    "        waveform=t['mean'].astype('float32'),\n",
    "        waveform_std_dev=t['std'].astype('float32')\n",
    "    )\n",
    "    for u, t in templates.items()\n",
    "]\n",
    "\n",
    "locations = rec.get_channel_locations()\n",
    "channel_locations = {channel_ids[ch]: locations[ch].astype(\"float32\")\n",
    "                     for ch in np.arange(rec.get_num_channels())}\n",
    "v_average_waveforms = vv.AverageWaveforms(\n",
    "    average_waveforms=aw_items,\n",
    "    channel_locations=channel_locations\n",
    ")\n",
    "url = v_average_waveforms.url(label='Test average waveforms')\n",
    "print(url)"
   ]
  },
  {
   "cell_type": "code",
   "execution_count": null,
   "id": "d9cbf04a",
   "metadata": {},
   "outputs": [],
   "source": [
    "# Correlograms\n",
    "\n",
    "ac_items = []\n",
    "cc_items = []\n",
    "for i in range(ccgs.shape[0]):\n",
    "    for j in range(i, ccgs.shape[0]):\n",
    "        if i == j:\n",
    "            ac_items.append(\n",
    "                vv.AutocorrelogramItem(\n",
    "                    unit_id=unit_ids[i],\n",
    "                    bin_edges_sec=(bins/1000.).astype(\"float32\"),\n",
    "                    bin_counts=ccgs[i, j].astype(\"int32\")\n",
    "                )\n",
    "            )\n",
    "        cc_items.append(\n",
    "            vv.CrossCorrelogramItem(\n",
    "                unit_id1=unit_ids[i],\n",
    "                unit_id2=unit_ids[j],\n",
    "                bin_edges_sec=(bins/1000.).astype(\"float32\"),\n",
    "                bin_counts=ccgs[i, j].astype(\"int32\")\n",
    "            )\n",
    "        )\n",
    "\n",
    "v_autocorrelograms = vv.Autocorrelograms(\n",
    "    autocorrelograms=ac_items\n",
    ")\n",
    "v_cross_correlograms = vv.CrossCorrelograms(\n",
    "    cross_correlograms=cc_items\n",
    ")\n",
    "\n",
    "view = vv.Splitter(\n",
    "    direction='horizontal',\n",
    "    item1=vv.LayoutItem(v_autocorrelograms),\n",
    "    item2=vv.LayoutItem(v_cross_correlograms)\n",
    ")\n",
    "\n",
    "url = view.url(label='Test correlograms')\n",
    "print(url)"
   ]
  },
  {
   "cell_type": "code",
   "execution_count": null,
   "id": "65b751bb",
   "metadata": {},
   "outputs": [],
   "source": [
    "# Spike amplitudes\n",
    "\n",
    "sa_items = [\n",
    "    vv.SpikeAmplitudesItem(\n",
    "        unit_id=u,\n",
    "        spike_times_sec=(sort.get_unit_spike_train(u) / sort.get_sampling_frequency()).astype(\"float32\"),\n",
    "        spike_amplitudes=(amps).astype(\"float32\")\n",
    "    )\n",
    "    for u, amps in amplitudes[0].items()\n",
    "]\n",
    "\n",
    "v_spike_amplitudes = vv.SpikeAmplitudes(\n",
    "    start_time_sec=0,\n",
    "    end_time_sec=rec.get_total_duration(),\n",
    "    plots=sa_items\n",
    ")\n",
    "\n",
    "url = v_spike_amplitudes.url(label='Test spike amplitudes')\n",
    "print(url)"
   ]
  },
  {
   "cell_type": "code",
   "execution_count": null,
   "id": "396142c9",
   "metadata": {},
   "outputs": [],
   "source": [
    "# sl_unit_data = [{\"unitId\": u, \n",
    "#                  \"xLocations\": loc[\"x\"].astype(\"float32\"),\n",
    "#                  \"yLocations\": loc[\"y\"].astype(\"float32\"),\n",
    "#                  \"zLocations\": loc[\"z\"].astype(\"float32\"),\n",
    "#                  \"spikeTimesSec\":  (sort.get_unit_spike_train(u) / sort.get_sampling_frequency()).astype(\"float32\")}\n",
    "#                 for u, loc in locs[0].items()]\n",
    "# # channel_locations = [chan: loc]\n",
    "# spike_locations_view_data = dict(type=\"SpikeLocations\",\n",
    "#                                  startTimeSec=0, \n",
    "#                                  endTimeSec=rec.get_total_duration(), \n",
    "#                                  units=sl_unit_data)\n",
    "# sv_dict.update(dict(SpikeLocationsViewData=spike_locations_view_data))"
   ]
  },
  {
   "cell_type": "code",
   "execution_count": null,
   "id": "5327bbed",
   "metadata": {},
   "outputs": [],
   "source": [
    "# Unit similarity matrix\n",
    "\n",
    "ss_items = []\n",
    "for i1, u1 in enumerate(unit_ids):\n",
    "    for i2, u2 in enumerate(unit_ids):\n",
    "        ss_items.append(vv.UnitSimilarityScore(\n",
    "            unit_id1=u1,\n",
    "            unit_id2=u2,\n",
    "            similarity=similarity[i1, i2]\n",
    "        ))\n",
    "\n",
    "v_unit_similarity_matrix = vv.UnitSimilarityMatrix(\n",
    "    unit_ids=list(unit_ids),\n",
    "    similarity_scores=ss_items\n",
    ")\n",
    "\n",
    "url = v_unit_similarity_matrix.url(label='Test unit similarity matrix')\n",
    "print(url)"
   ]
  },
  {
   "cell_type": "code",
   "execution_count": null,
   "id": "561a01fd",
   "metadata": {},
   "outputs": [],
   "source": [
    "# ul_unit_data = [dict(unitId=u, location=loc.astype(\"float32\")) for u, loc in unit_locations.items()]\n",
    "\n",
    "# unit_locations_view_data = dict(type=\"UnitLocations\", \n",
    "#                                 units=ul_unit_data, \n",
    "#                                 channelLocations=channel_locations)\n",
    "# sv_dict.update(dict(UnitLocationsViewData=unit_locations_view_data))"
   ]
  },
  {
   "cell_type": "code",
   "execution_count": null,
   "id": "d9f59bbe",
   "metadata": {},
   "outputs": [],
   "source": [
    "# template_metric_names = si.get_template_metric_names()\n",
    "\n",
    "# skip_metrics = ['isi_violations_rate', 'isi_violations_count']\n",
    "\n",
    "# um_metrics = []\n",
    "# for metric in metrics.columns:\n",
    "#     if metric not in skip_metrics:\n",
    "#         if metric in template_metric_names:\n",
    "#             metric_type = \"template\"\n",
    "#         else:\n",
    "#             metric_type = \"quality\"\n",
    "#         um_metrics.append(dict(name=metric, metricType=metric_type, description=\"\"))\n",
    "\n",
    "# um_units = []\n",
    "# for index, row in metrics.iterrows():\n",
    "#     values = {}\n",
    "#     for metric in row.keys():\n",
    "#         if metric not in skip_metrics:\n",
    "#             values[metric] = row[metric]\n",
    "#     um_units.append(dict(unitId=int(index), values=values))\n",
    "    \n",
    "# unit_metrics_view_data = dict(type=\"UnitMetrics\", \n",
    "#                               metrics=um_metrics, units=um_units)\n",
    "\n",
    "# sv_dict.update(dict(UnitMetricsViewData=unit_metrics_view_data))"
   ]
  },
  {
   "cell_type": "code",
   "execution_count": null,
   "id": "384844e1",
   "metadata": {},
   "outputs": [],
   "source": [
    "# Create layout\n",
    "\n",
    "view = vv.Box(\n",
    "    direction='horizontal',\n",
    "    items=[\n",
    "        vv.LayoutItem(v_units_table, max_size=150),\n",
    "        vv.LayoutItem(\n",
    "            vv.Splitter(\n",
    "                direction='horizontal',\n",
    "                item1=vv.LayoutItem(\n",
    "                    vv.Box(\n",
    "                        direction='vertical',\n",
    "                        items=[\n",
    "                            vv.LayoutItem(v_spike_amplitudes),\n",
    "                            vv.LayoutItem(\n",
    "                                vv.Splitter(\n",
    "                                    direction='horizontal',\n",
    "                                    item1=vv.LayoutItem(v_cross_correlograms, stretch=3),\n",
    "                                    item2=vv.LayoutItem(v_unit_similarity_matrix, stretch=1)\n",
    "                                )\n",
    "                            )\n",
    "                        ]\n",
    "                    )\n",
    "                ),\n",
    "                item2=vv.LayoutItem(\n",
    "                    vv.Box(\n",
    "                        direction='vertical',\n",
    "                        items=[\n",
    "                            vv.LayoutItem(v_average_waveforms),\n",
    "                            vv.LayoutItem(v_autocorrelograms)\n",
    "                        ]\n",
    "                    )\n",
    "                )\n",
    "            )\n",
    "        )\n",
    "    ]\n",
    ")\n",
    "\n",
    "url = view.url(label='prepare-data-for-sv.ipynb')\n",
    "print(url)"
   ]
  }
 ],
 "metadata": {
  "kernelspec": {
   "display_name": "Python 3 (ipykernel)",
   "language": "python",
   "name": "python3"
  },
  "language_info": {
   "codemirror_mode": {
    "name": "ipython",
    "version": 3
   },
   "file_extension": ".py",
   "mimetype": "text/x-python",
   "name": "python",
   "nbconvert_exporter": "python",
   "pygments_lexer": "ipython3",
   "version": "3.8.13"
  }
 },
 "nbformat": 4,
 "nbformat_minor": 5
}
