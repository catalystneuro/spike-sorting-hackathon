{
 "cells": [
  {
   "cell_type": "code",
   "execution_count": null,
   "id": "8b3c422f",
   "metadata": {},
   "outputs": [],
   "source": [
    "%load_ext autoreload\n",
    "%autoreload 2"
   ]
  },
  {
   "cell_type": "code",
   "execution_count": null,
   "id": "97a1496c",
   "metadata": {},
   "outputs": [],
   "source": [
    "import spikeinterface.full as si\n",
    "import numpy as np\n",
    "from pathlib import Path\n",
    "import time\n",
    "import matplotlib.pyplot as plt\n",
    "import seaborn as sns\n",
    "import pandas as pd\n",
    "import kachery_cloud as kcl\n",
    "import figurl\n",
    "\n",
    "\n",
    "%matplotlib widget"
   ]
  },
  {
   "cell_type": "code",
   "execution_count": null,
   "id": "18a8bf0d",
   "metadata": {},
   "outputs": [],
   "source": [
    "n_jobs = 10\n",
    "job_kwargs = dict(n_jobs=n_jobs, chunk_duration=\"1s\", progress_bar=True)"
   ]
  },
  {
   "cell_type": "code",
   "execution_count": null,
   "id": "312eb2d5",
   "metadata": {
    "scrolled": true
   },
   "outputs": [],
   "source": [
    "# load recording and sorting\n",
    "rec = si.load_extractor(\"...\")\n",
    "sort = si.load_extractor(\"...\")"
   ]
  },
  {
   "cell_type": "code",
   "execution_count": null,
   "id": "8529ef0b",
   "metadata": {
    "scrolled": true
   },
   "outputs": [],
   "source": [
    "we = si.extract_waveforms(rec, sort, folder=\"wf_folder\", load_if_exists=True, **job_kwargs)"
   ]
  },
  {
   "cell_type": "code",
   "execution_count": null,
   "id": "2ac59006",
   "metadata": {},
   "outputs": [],
   "source": [
    "sparsity = si.get_template_channel_sparsity(we, method=\"radius\", radius_um=50)"
   ]
  },
  {
   "cell_type": "code",
   "execution_count": null,
   "id": "d6f7d695",
   "metadata": {},
   "outputs": [],
   "source": [
    "# templates\n",
    "templates = {}\n",
    "for unit in sort.unit_ids:\n",
    "    template_mean = we.get_template(unit, mode=\"average\", sparsity=sparsity)\n",
    "    template_std = we.get_template(unit, mode=\"std\", sparsity=sparsity)\n",
    "    \n",
    "    templates[unit] = {}\n",
    "    templates[unit][\"mean\"] = template_mean\n",
    "    templates[unit][\"std\"] = template_std "
   ]
  },
  {
   "cell_type": "code",
   "execution_count": null,
   "id": "692dfb3f",
   "metadata": {},
   "outputs": [],
   "source": [
    "# ccgs\n",
    "ccgs, bins = si.compute_correlograms(sorting=sort, symmetrize=True,\n",
    "                                     bin_ms=0.5)"
   ]
  },
  {
   "cell_type": "code",
   "execution_count": null,
   "id": "ffff797e",
   "metadata": {},
   "outputs": [],
   "source": [
    "# spike localization\n",
    "locs = si.compute_spike_locations(we, method=\"monopolar_triangulation\", method_kwargs={\"raidus\": 100},\n",
    "                                  outputs=\"by_unit\", load_if_exists=True, **job_kwargs)"
   ]
  },
  {
   "cell_type": "code",
   "execution_count": null,
   "id": "df86a300",
   "metadata": {},
   "outputs": [],
   "source": [
    "# spike amplitudes\n",
    "amplitudes = si.compute_spike_amplitudes(we, outputs=\"by_unit\", load_if_exists=True, **job_kwargs)"
   ]
  },
  {
   "cell_type": "code",
   "execution_count": null,
   "id": "f56034b2",
   "metadata": {},
   "outputs": [],
   "source": [
    "# similarity\n",
    "similarity = si.compute_template_similarity(we)"
   ]
  },
  {
   "cell_type": "code",
   "execution_count": null,
   "id": "b74924ba",
   "metadata": {},
   "outputs": [],
   "source": [
    "# template metrics\n",
    "tm = si.calculate_template_metrics(we, upsampling_factor=10)"
   ]
  },
  {
   "cell_type": "code",
   "execution_count": null,
   "id": "da8b5df8",
   "metadata": {},
   "outputs": [],
   "source": [
    "# quality metrics\n",
    "metric_names = si.get_quality_metric_list()\n",
    "# metric_names += si.get_quality_pca_metric_list()\n",
    "metric_names += [\"nearest_neighbor\"]\n",
    "\n",
    "# compute PC\n",
    "pc = si.compute_principal_components(we, n_jobs=n_jobs, mode=\"by_channel_local\", progress_bar=True,\n",
    "                                     load_if_exists=True)"
   ]
  },
  {
   "cell_type": "code",
   "execution_count": null,
   "id": "12c3b216",
   "metadata": {},
   "outputs": [],
   "source": [
    "qm = si.compute_quality_metrics(we, sparsity=sparsity, verbose=True, progress_bar=True, \n",
    "                                metric_names=metric_names, n_jobs=n_jobs, load_if_exists=True)"
   ]
  },
  {
   "cell_type": "code",
   "execution_count": null,
   "id": "3ca607f7",
   "metadata": {},
   "outputs": [],
   "source": [
    "# merge metrics\n",
    "metrics = qm.merge(tm, left_index=True, right_index=True)\n",
    "metrics"
   ]
  },
  {
   "cell_type": "code",
   "execution_count": null,
   "id": "d10c3ee6",
   "metadata": {},
   "outputs": [],
   "source": [
    "# unit locations\n",
    "unit_locations = si.localize_units(we, method=\"monopolar_triangulation\", output=\"dict\")"
   ]
  },
  {
   "cell_type": "markdown",
   "id": "decc962f",
   "metadata": {},
   "source": [
    "# Package for SortingView"
   ]
  },
  {
   "cell_type": "markdown",
   "id": "0d98bd3f",
   "metadata": {},
   "source": [
    "### UnitTable\n",
    "\n",
    "```\n",
    "type UTColumn = {\n",
    "    key: string\n",
    "    label: string\n",
    "    dtype: string\n",
    "}\n",
    "\n",
    "type UTRow = {\n",
    "    unitId: number\n",
    "    values: {[key: string]: any}\n",
    "}\n",
    "\n",
    "export type UnitsTableViewData = {\n",
    "    type: 'UnitsTable'\n",
    "    columns: UTColumn[]\n",
    "    rows: UTRow[]\n",
    "}\n",
    "```"
   ]
  },
  {
   "cell_type": "code",
   "execution_count": null,
   "id": "b92eaf9e",
   "metadata": {},
   "outputs": [],
   "source": [
    "sv_dict = dict()"
   ]
  },
  {
   "cell_type": "code",
   "execution_count": null,
   "id": "7c76f870",
   "metadata": {},
   "outputs": [],
   "source": [
    "unit_rows = [{\"unitId\": u, \"values\": {}} for u in sort.unit_ids]\n",
    "unit_columns = []\n",
    "\n",
    "units_table_view_data = dict(type=\"UnitsTable\",\n",
    "                             rows=unit_rows, columns=unit_columns)\n",
    "\n",
    "sv_dict.update(dict(UnitsTableViewData=units_table_view_data))"
   ]
  },
  {
   "cell_type": "markdown",
   "id": "27f6b457",
   "metadata": {},
   "source": [
    "### Templates\n",
    "\n",
    "```\n",
    "type AverageWaveformData = {\n",
    "    unitId: number | string\n",
    "    channelIds: (number | string)[]\n",
    "    waveform: number[][]\n",
    "    waveformStdDev?: number[][]\n",
    "}\n",
    "\n",
    "export type AverageWaveformsViewData = {\n",
    "    type: 'AverageWaveforms'\n",
    "    averageWaveforms: AverageWaveformData[]\n",
    "    samplingFrequency: number\n",
    "    noiseLevel: number\n",
    "    channelLocations?: {[key: string]: number[]}\n",
    "}\n",
    "```"
   ]
  },
  {
   "cell_type": "code",
   "execution_count": null,
   "id": "af5fdc26",
   "metadata": {},
   "outputs": [],
   "source": [
    "average_waveforms_data = [{\"unitId\": u, \"channelIds\": sparsity[u], \"waveform\": t[\"mean\"], \n",
    "                           \"waveformStdDev\": t[\"std\"]} for u, t in templates.items()]\n",
    "locations = rec.get_channel_locations()\n",
    "channel_locations = [{rec.channel_ids[ch]: locations[ch].astype(\"float32\")} \n",
    "                     for ch in np.arange(rec.get_num_channels())]\n",
    "average_waveforms_view_data = dict(type=\"AverageWaveforms\",\n",
    "                                   averageWaveforms=average_waveforms_data, \n",
    "                                   samplingFrequency=rec.get_sampling_frequency(),\n",
    "                                   noiseLevel=1, channelLocations=channel_locations)\n",
    "sv_dict.update(dict(AverageWaveformsViewData=average_waveforms_view_data))"
   ]
  },
  {
   "cell_type": "markdown",
   "id": "bfd16760",
   "metadata": {},
   "source": [
    "### Correlograms\n",
    "\n",
    "```\n",
    "type AutocorrelogramData = {\n",
    "    unitId: number\n",
    "    binEdgesSec: number[]\n",
    "    binCounts: number[]\n",
    "}\n",
    "\n",
    "export type AutocorrelogramsViewData = {\n",
    "    type: 'Autocorrelograms'\n",
    "    autocorrelograms: AutocorrelogramData[]\n",
    "}\n",
    "\n",
    "\n",
    "type CrosscorrelogramData = {\n",
    "    unitId1: number\n",
    "    unitId2: number\n",
    "    binEdgesSec: number[]\n",
    "    binCounts: number[]\n",
    "}\n",
    "\n",
    "export type CrosscorrelogramsViewData = {\n",
    "    type: 'Crosscorrelograms'\n",
    "    crosscorrelograms: CrosscorrelogramData[]\n",
    "}\n",
    "```"
   ]
  },
  {
   "cell_type": "code",
   "execution_count": null,
   "id": "d9cbf04a",
   "metadata": {},
   "outputs": [],
   "source": [
    "auto_correlogram_data = []\n",
    "cross_correlogram_data = []\n",
    "\n",
    "for i in range(ccgs.shape[0]):\n",
    "    for j in range(i, ccgs.shape[0]):\n",
    "        if i == j:\n",
    "            auto_correlogram_data.append(dict(unitId=sort.unit_ids[i], \n",
    "                                              binEdgesSec=(bins/1000.).astype(\"float32\"),\n",
    "                                              binCounts=ccgs[i, j].astype(\"int32\")))\n",
    "        else:\n",
    "            cross_correlogram_data.append(dict(unitId1=sort.unit_ids[i], \n",
    "                                               unitId2=sort.unit_ids[j], \n",
    "                                               binEdgesSec=(bins/1000.).astype(\"float32\"),\n",
    "                                               binCounts=ccgs[i, j].astype(\"int32\")))\n",
    "autocorrelograms_view_data = dict(type=\"Autocorrelograms\", autocorrelograms=auto_correlogram_data)\n",
    "crosscorrelograms_view_data = dict(type=\"Crosscorrelograms\", crosscorrelograms=cross_correlogram_data)\n",
    "\n",
    "sv_dict.update(dict(AutocorrelogramsViewData=autocorrelograms_view_data))\n",
    "sv_dict.update(dict(CrosscorrelogramsViewData=crosscorrelograms_view_data))"
   ]
  },
  {
   "cell_type": "markdown",
   "id": "6b9fdd6c",
   "metadata": {},
   "source": [
    "### Spike Amplitudes\n",
    "\n",
    "```\n",
    "type SAUnitData = {\n",
    "    unitId: number\n",
    "    spikeTimesSec: number[]\n",
    "    spikeAmplitudes: number[]\n",
    "}\n",
    "\n",
    "export type SpikeAmplitudesViewData = {\n",
    "    type: 'SpikeAmplitudes'\n",
    "    startTimeSec: number\n",
    "    endTimeSec: number\n",
    "    units: SAUnitData[]\n",
    "}\n",
    "```"
   ]
  },
  {
   "cell_type": "code",
   "execution_count": null,
   "id": "65b751bb",
   "metadata": {},
   "outputs": [],
   "source": [
    "sa_unit_data = [{\"unitId\": u, \n",
    "                 \"spikeTimesSec\": (sort.get_unit_spike_train(u) / sort.get_sampling_frequency()).astype(\"float32\"), \n",
    "                 \"spikeAmplitudes\": amps} for u, amps in amplitudes[0].items()]\n",
    "# channel_locations = [chan: loc]\n",
    "spike_amplitudes_view_data = dict(type=\"SpikeAmplitudes\",\n",
    "                                  startTimeSec=0,\n",
    "                                  endTimeSec=rec.get_total_duration(), \n",
    "                                  units=sa_unit_data)\n",
    "sv_dict.update(dict(SpikeAmplitudesViewData=spike_amplitudes_view_data))"
   ]
  },
  {
   "cell_type": "markdown",
   "id": "ec11c3ff",
   "metadata": {},
   "source": [
    "### Spike Locations\n",
    "\n",
    "```\n",
    "type SLUnitData = {\n",
    "    unitId: number\n",
    "    xLocations: number[]\n",
    "    yLocations: number[]\n",
    "    zLocations?: number[]\n",
    "    spikeTimesSec?: number[] // optionally sync with other view\n",
    "}\n",
    "\n",
    "type SpikeLocationsViewData = {\n",
    "    type: 'SpikeLocations'\n",
    "    units: SLUnitData[]\n",
    "    channelLocations?: {[key: string]: number[]}\n",
    "}\n",
    "```"
   ]
  },
  {
   "cell_type": "code",
   "execution_count": null,
   "id": "396142c9",
   "metadata": {},
   "outputs": [],
   "source": [
    "sl_unit_data = [{\"unitId\": u, \n",
    "                 \"xLocations\": loc[\"x\"].astype(\"float32\"),\n",
    "                 \"yLocations\": loc[\"y\"].astype(\"float32\"),\n",
    "                 \"zLocations\": loc[\"z\"].astype(\"float32\"),\n",
    "                 \"spikeTimesSec\":  (sort.get_unit_spike_train(u) / sort.get_sampling_frequency()).astype(\"float32\")}\n",
    "                for u, loc in locs[0].items()]\n",
    "# channel_locations = [chan: loc]\n",
    "spike_locations_view_data = dict(type=\"SpikeLocations\",\n",
    "                                 startTimeSec=0, \n",
    "                                 endTimeSec=rec.get_total_duration(), \n",
    "                                 units=sl_unit_data)\n",
    "sv_dict.update(dict(SpikeLocationsViewData=spike_locations_view_data))"
   ]
  },
  {
   "cell_type": "markdown",
   "id": "42c90d78",
   "metadata": {},
   "source": [
    "### Similarity\n",
    "\n",
    "```\n",
    "type UnitSimilarityMatrixViewData = {\n",
    "    type: 'UnitSimilarityMatrix'\n",
    "    unitIds: (number | string)[]\n",
    "    similarityScores: number[][] // numpy matrix\n",
    "}\n",
    "```"
   ]
  },
  {
   "cell_type": "code",
   "execution_count": null,
   "id": "5327bbed",
   "metadata": {},
   "outputs": [],
   "source": [
    "unit_similarity_matrix_view_data = dict(type=\"UnitSimilarityMatrix\",\n",
    "                                        unitIds=sort.unit_ids.astype(\"int32\"),\n",
    "                                        similarityScores=similarity)\n",
    "sv_dict.update(dict(UnitSimilarityMatrixViewData=unit_similarity_matrix_view_data))"
   ]
  },
  {
   "cell_type": "markdown",
   "id": "d1c05026",
   "metadata": {},
   "source": [
    "### Unit locations\n",
    "\n",
    "```\n",
    "type ULUnitData = {\n",
    "    unitId: number\n",
    "    location: [number, number]\n",
    "}\n",
    "\n",
    "type UnitLocationsViewData = {\n",
    "    type: 'UnitLocations'\n",
    "    units: ULUnitData[]\n",
    "    channelLocations?: {[key: string]: number[]}\n",
    "}\n",
    "```\n"
   ]
  },
  {
   "cell_type": "code",
   "execution_count": null,
   "id": "561a01fd",
   "metadata": {},
   "outputs": [],
   "source": [
    "ul_unit_data = [dict(unitId=u, location=loc.astype(\"float32\")) for u, loc in unit_locations.items()]\n",
    "\n",
    "unit_locations_view_data = dict(type=\"UnitLocations\", \n",
    "                                units=ul_unit_data, \n",
    "                                channelLocations=channel_locations)\n",
    "sv_dict.update(dict(UnitLocationsViewData=unit_locations_view_data))"
   ]
  },
  {
   "cell_type": "markdown",
   "id": "ecceb6f4",
   "metadata": {},
   "source": [
    "### Metrics\n",
    "\n",
    "```\n",
    "type UMMetric = {\n",
    "    name: string\n",
    "    metricType: 'quality' | 'template' | string\n",
    "    description: string\n",
    "}\n",
    "\n",
    "type UMUnit = {\n",
    "    unitId: number\n",
    "    values: {[name: string]: any} // key corresponds to the name\n",
    "}\n",
    "\n",
    "export type UnitMetricsViewData = {\n",
    "    type: 'UnitMetrics'\n",
    "    metrics: UMMetric[]\n",
    "    units: UMUnit[]\n",
    "}\n",
    "```"
   ]
  },
  {
   "cell_type": "code",
   "execution_count": null,
   "id": "d9f59bbe",
   "metadata": {},
   "outputs": [],
   "source": [
    "template_metric_names = si.get_template_metric_names()\n",
    "\n",
    "skip_metrics = ['isi_violations_rate', 'isi_violations_count']\n",
    "\n",
    "um_metrics = []\n",
    "for metric in metrics.columns:\n",
    "    if metric not in skip_metrics:\n",
    "        if metric in template_metric_names:\n",
    "            metric_type = \"template\"\n",
    "        else:\n",
    "            metric_type = \"quality\"\n",
    "        um_metrics.append(dict(name=metric, metricType=metric_type, description=\"\"))\n",
    "\n",
    "um_units = []\n",
    "for index, row in metrics.iterrows():\n",
    "    values = {}\n",
    "    for metric in row.keys():\n",
    "        if metric not in skip_metrics:\n",
    "            values[metric] = row[metric]\n",
    "    um_units.append(dict(unitId=index, values=values))\n",
    "    \n",
    "unit_metrics_view_data = dict(type=\"UnitMetrics\", \n",
    "                              metrics=um_metrics, units=um_units)\n",
    "\n",
    "sv_dict.update(dict(UnitMetricsViewData=unit_metrics_view_data))"
   ]
  },
  {
   "cell_type": "markdown",
   "id": "003aecf7",
   "metadata": {},
   "source": [
    "### Save to kachery cloud"
   ]
  },
  {
   "cell_type": "code",
   "execution_count": null,
   "id": "4e2add88",
   "metadata": {},
   "outputs": [],
   "source": [
    "def _upload_data_and_return_uri(data):\n",
    "    return kcl.store_json(figurl.serialize_data(data))"
   ]
  },
  {
   "cell_type": "code",
   "execution_count": null,
   "id": "27e48ef1",
   "metadata": {},
   "outputs": [],
   "source": [
    "data = {\n",
    "        'type': 'SortingLayout',\n",
    "        'layout': {\n",
    "            'type': 'Box',\n",
    "            'direction': 'horizontal',\n",
    "            'items': [\n",
    "                {'type': 'View', 'viewId': 'ut'},\n",
    "                {\n",
    "                    'type': 'Box',\n",
    "                    'direction': 'vertical',\n",
    "                    'items': [\n",
    "                        {'type': 'View', 'viewId': 'sa'},\n",
    "                        {'type': 'View', 'viewId': 'ac'}\n",
    "                    ],\n",
    "                    'itemProperties': [\n",
    "                        {},\n",
    "                        {}\n",
    "                    ]\n",
    "                }\n",
    "            ],\n",
    "            'itemProperties': [\n",
    "                {'maxSize': 150},\n",
    "                {}\n",
    "            ]\n",
    "        },\n",
    "        'views': [\n",
    "            {\n",
    "                'viewId': 'ut',\n",
    "                'type': 'UnitsTable',\n",
    "                'dataUri': kcl.store_json(figurl.serialize_data(sv_dict['UnitsTableViewData']))\n",
    "            },\n",
    "            {\n",
    "                'viewId': 'aw',\n",
    "                'type': 'AverageWaveforms',\n",
    "                'dataUri': kcl.store_json(figurl.serialize_data(sv_dict['AverageWaveformsViewData']))\n",
    "            },\n",
    "            {\n",
    "                'viewId': 'sa',\n",
    "                'type': 'SpikeAmplitudes',\n",
    "                'dataUri': kcl.store_json(figurl.serialize_data(sv_dict['SpikeAmplitudesViewData']))\n",
    "            },\n",
    "            {\n",
    "                'viewId': 'ac',\n",
    "                'type': 'Autocorrelograms',\n",
    "                'dataUri': kcl.store_json(figurl.serialize_data(sv_dict['AutocorrelogramsViewData']))\n",
    "            }\n",
    "        ]\n",
    "    }"
   ]
  },
  {
   "cell_type": "code",
   "execution_count": null,
   "id": "519edd88",
   "metadata": {},
   "outputs": [],
   "source": [
    "F = figurl.Figure(view_url='gs://figurl/spikesortingview-5', data=data)\n",
    "url = F.url(label='Alessio test data fixed')\n",
    "print(url)"
   ]
  }
 ],
 "metadata": {
  "kernelspec": {
   "display_name": "Python 3 (ipykernel)",
   "language": "python",
   "name": "python3"
  },
  "language_info": {
   "codemirror_mode": {
    "name": "ipython",
    "version": 3
   },
   "file_extension": ".py",
   "mimetype": "text/x-python",
   "name": "python",
   "nbconvert_exporter": "python",
   "pygments_lexer": "ipython3",
   "version": "3.9.7"
  }
 },
 "nbformat": 4,
 "nbformat_minor": 5
}
