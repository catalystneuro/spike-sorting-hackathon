{
 "cells": [
  {
   "cell_type": "code",
   "execution_count": null,
   "id": "fb5528ea",
   "metadata": {},
   "outputs": [],
   "source": [
    "import spikeinterface.full as si\n",
    "import sys\n",
    "import matplotlib.pyplot as plt\n",
    "import numpy as np\n",
    "import seaborn as sns\n",
    "from figurl_tiled_image import TiledImage\n",
    "\n",
    "\n",
    "sys.path.append(\"../utils/\")\n",
    "\n",
    "from subtract_templates import subtract_templates\n",
    "\n",
    "\n",
    "%matplotlib widget"
   ]
  },
  {
   "cell_type": "code",
   "execution_count": null,
   "id": "63eae3df",
   "metadata": {},
   "outputs": [],
   "source": [
    "job_kwargs = dict(n_jobs=10, chunk_duration=\"1s\", progress_bar=True)"
   ]
  },
  {
   "cell_type": "code",
   "execution_count": null,
   "id": "4168830f",
   "metadata": {},
   "outputs": [],
   "source": [
    "mearec_file = \"/home/alessio/Documents/data/mearec/recordings/recording_Neuropixels-128_300_int16.h5\""
   ]
  },
  {
   "cell_type": "code",
   "execution_count": null,
   "id": "a9eea761",
   "metadata": {},
   "outputs": [],
   "source": [
    "rec, sort = si.read_mearec(mearec_file)"
   ]
  },
  {
   "cell_type": "code",
   "execution_count": null,
   "id": "23c251fe",
   "metadata": {},
   "outputs": [],
   "source": [
    "# sort channels by depth for viz\n",
    "locations = rec.get_channel_locations()\n",
    "locations_order = np.argsort(locations[:, 1])\n",
    "channel_ids_sorted = rec.channel_ids[locations_order]\n",
    "\n",
    "rec_sorted = rec.channel_slice(channel_ids_sorted)"
   ]
  },
  {
   "cell_type": "code",
   "execution_count": null,
   "id": "72d6fe73",
   "metadata": {},
   "outputs": [],
   "source": [
    "we = si.extract_waveforms(rec_sorted, sort, folder=\"mearec_sorted_wf\", load_if_exists=True, **job_kwargs)"
   ]
  },
  {
   "cell_type": "code",
   "execution_count": null,
   "id": "ad6e7461",
   "metadata": {},
   "outputs": [],
   "source": [
    "nbefore = we.nbefore"
   ]
  },
  {
   "cell_type": "code",
   "execution_count": null,
   "id": "6f6bd102",
   "metadata": {},
   "outputs": [],
   "source": [
    "templates_dict = {u: we.get_template(u) for u in sort.unit_ids}"
   ]
  },
  {
   "cell_type": "code",
   "execution_count": null,
   "id": "b4e99ac5",
   "metadata": {},
   "outputs": [],
   "source": [
    "rec_sub = subtract_templates(rec_sorted, sort, templates_dict, nbefore, verbose=False)"
   ]
  },
  {
   "cell_type": "code",
   "execution_count": null,
   "id": "119af5b9",
   "metadata": {},
   "outputs": [],
   "source": [
    "tr = rec_sorted.get_traces(end_frame=32000)\n",
    "tr_sub = rec_sub.get_traces(end_frame=32000)"
   ]
  },
  {
   "cell_type": "code",
   "execution_count": null,
   "id": "d914e6e5",
   "metadata": {},
   "outputs": [],
   "source": [
    "plt.figure()\n",
    "\n",
    "plt.plot(tr[:, 50], label=\"raw\")\n",
    "plt.plot(tr_sub[:, 50], label=\"subtract\")\n",
    "plt.legend()"
   ]
  },
  {
   "cell_type": "markdown",
   "id": "dd710732",
   "metadata": {},
   "source": [
    "## Compute RMS distributions"
   ]
  },
  {
   "cell_type": "code",
   "execution_count": null,
   "id": "fc098fd8",
   "metadata": {},
   "outputs": [],
   "source": [
    "chunks_raw = si.get_random_data_chunks(rec_sorted, return_scaled=True)\n",
    "chunks_sub = si.get_random_data_chunks(rec_sub, return_scaled=True)"
   ]
  },
  {
   "cell_type": "code",
   "execution_count": null,
   "id": "ab758d96",
   "metadata": {},
   "outputs": [],
   "source": [
    "rms_raw = np.sqrt(np.sum(chunks_raw ** 2, axis=0) / chunks_raw.shape[0])\n",
    "rms_sub = np.sqrt(np.sum(chunks_sub ** 2, axis=0) / chunks_sub.shape[0])"
   ]
  },
  {
   "cell_type": "code",
   "execution_count": null,
   "id": "8ba8b356",
   "metadata": {},
   "outputs": [],
   "source": [
    "fig, ax = plt.subplots()\n",
    "\n",
    "_ = sns.kdeplot(rms_raw, ax=ax, cut=0)\n",
    "_ = sns.kdeplot(rms_sub, ax=ax, cut=0)"
   ]
  },
  {
   "cell_type": "markdown",
   "id": "fd37744a",
   "metadata": {},
   "source": [
    "## Figurl visualization"
   ]
  },
  {
   "cell_type": "code",
   "execution_count": null,
   "id": "db87e318",
   "metadata": {},
   "outputs": [],
   "source": [
    "def convert_and_upload(processing_steps, labels, start_frame, num_samples, colormap=\"PRGn\"):\n",
    "    import spikeinterface.widgets as sw\n",
    "    X = TiledImage(tile_size=512)\n",
    "    \n",
    "    for step, label in zip(processing_steps, labels):\n",
    "        \n",
    "        print('Processing ' + label)\n",
    "        arr = step.get_traces(start_frame=start_frame,\n",
    "                              end_frame=start_frame+num_samples)\n",
    "\n",
    "        if label == 'Centered':\n",
    "            color_range = 5000\n",
    "        else:\n",
    "            color_range = 250\n",
    "        \n",
    "        img = sw.array_to_image(arr, \n",
    "                                color_range=color_range,\n",
    "                                num_timepoints_per_row = 6000.,\n",
    "                                colormap=colormap)\n",
    "        \n",
    "        X.add_layer(label, img)\n",
    "        \n",
    "    url = X.url(label='SpikeInterface TiledImage example')\n",
    "    \n",
    "    return url"
   ]
  },
  {
   "cell_type": "code",
   "execution_count": null,
   "id": "0c510e8e",
   "metadata": {},
   "outputs": [],
   "source": [
    "processing_steps = [rec_sorted, rec_sub]\n",
    "labels = [\"raw\", \"subtract\"]\n",
    "start_frame = 32000\n",
    "num_samples = 32000"
   ]
  },
  {
   "cell_type": "code",
   "execution_count": null,
   "id": "610b1d46",
   "metadata": {},
   "outputs": [],
   "source": [
    "# url = \"https://www.figurl.org/f?v=gs://figurl/figurl-tiled-image-2&d=sha1://079d0446768eaae0cfb7dc74b8765b9ac4523fea&label=SpikeInterface%20TiledImage%20example\"\n",
    "url = None"
   ]
  },
  {
   "cell_type": "code",
   "execution_count": null,
   "id": "14552e86",
   "metadata": {
    "scrolled": true
   },
   "outputs": [],
   "source": [
    "if url is None:\n",
    "    url = convert_and_upload(processing_steps, labels, start_frame, num_samples, colormap=\"viridis\")"
   ]
  },
  {
   "cell_type": "code",
   "execution_count": null,
   "id": "bebd8a51",
   "metadata": {},
   "outputs": [],
   "source": [
    "print(url)"
   ]
  },
  {
   "cell_type": "markdown",
   "id": "c7387b86",
   "metadata": {},
   "source": [
    "Sample URL:\n",
    "https://figurl.org/f?v=gs://figurl/figurl-tiled-image-2&d=sha1://da2f0d1798758ed4379b1dcbb0d3d504664b4fdd&label=SpikeInterface%20TiledImage%20example"
   ]
  },
  {
   "cell_type": "markdown",
   "id": "e6fa2555",
   "metadata": {},
   "source": [
    "## Detect peaks"
   ]
  },
  {
   "cell_type": "code",
   "execution_count": null,
   "id": "a21613e3",
   "metadata": {},
   "outputs": [],
   "source": [
    "from spikeinterface.sortingcomponents.peak_detection import detect_peaks"
   ]
  },
  {
   "cell_type": "code",
   "execution_count": null,
   "id": "a86bd661",
   "metadata": {},
   "outputs": [],
   "source": [
    "noise_levels = si.get_noise_levels(rec_sorted)"
   ]
  },
  {
   "cell_type": "code",
   "execution_count": null,
   "id": "38c03f69",
   "metadata": {},
   "outputs": [],
   "source": [
    "peaks_raw = detect_peaks(rec_sorted, noise_levels=noise_levels, **job_kwargs)"
   ]
  },
  {
   "cell_type": "code",
   "execution_count": null,
   "id": "56d12a6d",
   "metadata": {},
   "outputs": [],
   "source": [
    "peaks_sub = detect_peaks(rec_sub, noise_levels=noise_levels, **job_kwargs)"
   ]
  },
  {
   "cell_type": "code",
   "execution_count": null,
   "id": "998fecb1",
   "metadata": {},
   "outputs": [],
   "source": [
    "print(f\"Fraction of detected spikes vs GT after subtraction: {len(peaks_sub) / len(peaks_raw)}\")"
   ]
  },
  {
   "cell_type": "code",
   "execution_count": null,
   "id": "f7afb66c",
   "metadata": {},
   "outputs": [],
   "source": [
    "plt.figure()\n",
    "_ = plt.hist(peaks_raw[\"amplitude\"], bins=100)\n",
    "_ = plt.hist(peaks_sub[\"amplitude\"], bins=100)\n",
    "plt.xlim(-300, 0)"
   ]
  }
 ],
 "metadata": {
  "kernelspec": {
   "display_name": "Python 3 (ipykernel)",
   "language": "python",
   "name": "python3"
  },
  "language_info": {
   "codemirror_mode": {
    "name": "ipython",
    "version": 3
   },
   "file_extension": ".py",
   "mimetype": "text/x-python",
   "name": "python",
   "nbconvert_exporter": "python",
   "pygments_lexer": "ipython3",
   "version": "3.9.11"
  }
 },
 "nbformat": 4,
 "nbformat_minor": 5
}
